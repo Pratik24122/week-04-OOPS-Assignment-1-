{
 "cells": [
  {
   "cell_type": "markdown",
   "id": "8970a750",
   "metadata": {},
   "source": [
    "### Q1"
   ]
  },
  {
   "cell_type": "code",
   "execution_count": 32,
   "id": "99d967b1",
   "metadata": {},
   "outputs": [],
   "source": [
    "#Class and object are two basic concepts of object-oriented programming. A class is a user-defined blueprint or prototype that describes the common properties and behaviors of a group of objects. An object is an instance of a class that has specific values for the properties and methods defined by the class."
   ]
  },
  {
   "cell_type": "code",
   "execution_count": 56,
   "id": "f8168a0d",
   "metadata": {},
   "outputs": [],
   "source": [
    "class Bank:\n",
    "    def __init__(self,name,account_no):\n",
    "        self.name=name\n",
    "        self.account_no=account_no\n",
    "        self._balance=0\n",
    "        \n",
    "    def deposite(self,amount):\n",
    "        self._balance=self._balance+amount\n",
    "        print(f'{self.name} your balance is {self._balance}.')\n",
    "        \n",
    "    def withdraw(self,amount):\n",
    "        if (amount < self._balance):\n",
    "            self._balance=self._balance-amount\n",
    "            print(f'{self.name} your balance is {self._balance}.')\n",
    "        else :\n",
    "            print('Insufficient Balance!')"
   ]
  },
  {
   "cell_type": "code",
   "execution_count": 57,
   "id": "efe5d7f9",
   "metadata": {},
   "outputs": [],
   "source": [
    "a=Bank('Pratik',123)"
   ]
  },
  {
   "cell_type": "code",
   "execution_count": 58,
   "id": "29b45032",
   "metadata": {},
   "outputs": [
    {
     "name": "stdout",
     "output_type": "stream",
     "text": [
      "Pratik your balance is 1200.\n"
     ]
    }
   ],
   "source": [
    "a.deposite(1200)"
   ]
  },
  {
   "cell_type": "code",
   "execution_count": 59,
   "id": "bc508594",
   "metadata": {},
   "outputs": [
    {
     "name": "stdout",
     "output_type": "stream",
     "text": [
      "Pratik your balance is 1080.\n"
     ]
    }
   ],
   "source": [
    "a.withdraw(120)"
   ]
  },
  {
   "cell_type": "markdown",
   "id": "2413149f",
   "metadata": {},
   "source": [
    "### Q2"
   ]
  },
  {
   "cell_type": "code",
   "execution_count": 1,
   "id": "69433c58",
   "metadata": {},
   "outputs": [],
   "source": [
    "#The four pillars of OOPs :-\n",
    "#1.Inheritance\n",
    "#2.Polymorphism\n",
    "#3.Abstracion\n",
    "#4.Encapsulation"
   ]
  },
  {
   "cell_type": "markdown",
   "id": "3bb861d6",
   "metadata": {},
   "source": [
    "### Q3"
   ]
  },
  {
   "cell_type": "code",
   "execution_count": 2,
   "id": "5b891ecd",
   "metadata": {},
   "outputs": [],
   "source": [
    "#The __init__() function is used in Python to initialize the attributes of an object when it is created. It is a special method that is called automatically when an object is instantiated from a class."
   ]
  },
  {
   "cell_type": "code",
   "execution_count": 3,
   "id": "c6e60269",
   "metadata": {},
   "outputs": [],
   "source": [
    "class Person:\n",
    "    def __init__(self,name,age):\n",
    "        self.name=name\n",
    "        self.age=age"
   ]
  },
  {
   "cell_type": "code",
   "execution_count": 4,
   "id": "88edea62",
   "metadata": {},
   "outputs": [],
   "source": [
    "p1=Person(\"Pratik\",19)"
   ]
  },
  {
   "cell_type": "markdown",
   "id": "8a4a99d6",
   "metadata": {},
   "source": [
    "### Q4"
   ]
  },
  {
   "cell_type": "code",
   "execution_count": null,
   "id": "704cdb05",
   "metadata": {},
   "outputs": [],
   "source": [
    "#Self is used in OOPs to refer to the instance of the class that is currently being used."
   ]
  },
  {
   "cell_type": "markdown",
   "id": "fb2ac859",
   "metadata": {},
   "source": [
    "### Q5"
   ]
  },
  {
   "cell_type": "code",
   "execution_count": 5,
   "id": "ab8f4b6d",
   "metadata": {},
   "outputs": [],
   "source": [
    "#Inheritance is a concept of OOPs. It allows a class to inherit the properties and methods of a another class."
   ]
  },
  {
   "cell_type": "code",
   "execution_count": 7,
   "id": "d97f0762",
   "metadata": {},
   "outputs": [],
   "source": [
    "#single inheritance\n",
    "class animal:\n",
    "    def func1(self):\n",
    "        print('This is a animal class.')\n",
    "        \n",
    "class lion(animal):\n",
    "    def func2(self):\n",
    "        print('This is a lion class')"
   ]
  },
  {
   "cell_type": "code",
   "execution_count": 8,
   "id": "e20c48b9",
   "metadata": {},
   "outputs": [],
   "source": [
    "l=lion()"
   ]
  },
  {
   "cell_type": "code",
   "execution_count": 9,
   "id": "f12e5fa0",
   "metadata": {},
   "outputs": [
    {
     "name": "stdout",
     "output_type": "stream",
     "text": [
      "This is a animal class.\n"
     ]
    }
   ],
   "source": [
    "l.func1()"
   ]
  },
  {
   "cell_type": "code",
   "execution_count": 10,
   "id": "2586a3c6",
   "metadata": {},
   "outputs": [
    {
     "name": "stdout",
     "output_type": "stream",
     "text": [
      "This is a lion class\n"
     ]
    }
   ],
   "source": [
    "l.func2()"
   ]
  },
  {
   "cell_type": "code",
   "execution_count": 11,
   "id": "47b2d8f5",
   "metadata": {},
   "outputs": [],
   "source": [
    "#multiple inheritance\n",
    "class father:\n",
    "    def func1(self):\n",
    "        print(\"This is father class.\")\n",
    "        \n",
    "class mother:\n",
    "    def func2(self):\n",
    "        print('This is mother class.')\n",
    "       \n",
    "class child(father,mother):\n",
    "    def func3(self):\n",
    "        print(\"This is child class.\")"
   ]
  },
  {
   "cell_type": "code",
   "execution_count": 12,
   "id": "c724e626",
   "metadata": {},
   "outputs": [],
   "source": [
    "c=child()"
   ]
  },
  {
   "cell_type": "code",
   "execution_count": 13,
   "id": "304b24ec",
   "metadata": {},
   "outputs": [
    {
     "name": "stdout",
     "output_type": "stream",
     "text": [
      "This is father class.\n"
     ]
    }
   ],
   "source": [
    "c.func1()"
   ]
  },
  {
   "cell_type": "code",
   "execution_count": 14,
   "id": "45f1ca59",
   "metadata": {},
   "outputs": [
    {
     "name": "stdout",
     "output_type": "stream",
     "text": [
      "This is mother class.\n"
     ]
    }
   ],
   "source": [
    "c.func2()"
   ]
  },
  {
   "cell_type": "code",
   "execution_count": 15,
   "id": "50dbdfea",
   "metadata": {},
   "outputs": [
    {
     "name": "stdout",
     "output_type": "stream",
     "text": [
      "This is child class.\n"
     ]
    }
   ],
   "source": [
    "c.func3()"
   ]
  },
  {
   "cell_type": "code",
   "execution_count": 17,
   "id": "03e17484",
   "metadata": {},
   "outputs": [],
   "source": [
    "#multilevel inheritance\n",
    "class add:\n",
    "    def add(self,a,b):\n",
    "        return a+b\n",
    "    \n",
    "class sub(add):\n",
    "    def sub(self,a,b):\n",
    "        return a-b\n",
    "    \n",
    "class math(sub):\n",
    "    def mul(self,a,b):\n",
    "        return a*b\n",
    "    \n",
    "    def div(self,a,b):\n",
    "        return a/b"
   ]
  },
  {
   "cell_type": "code",
   "execution_count": 18,
   "id": "481077b0",
   "metadata": {},
   "outputs": [],
   "source": [
    "m=math()"
   ]
  },
  {
   "cell_type": "code",
   "execution_count": 19,
   "id": "74e4ed86",
   "metadata": {},
   "outputs": [
    {
     "data": {
      "text/plain": [
       "3"
      ]
     },
     "execution_count": 19,
     "metadata": {},
     "output_type": "execute_result"
    }
   ],
   "source": [
    "m.add(1,2)"
   ]
  },
  {
   "cell_type": "code",
   "execution_count": 20,
   "id": "c1983a33",
   "metadata": {},
   "outputs": [
    {
     "data": {
      "text/plain": [
       "1"
      ]
     },
     "execution_count": 20,
     "metadata": {},
     "output_type": "execute_result"
    }
   ],
   "source": [
    "m.sub(2,1)"
   ]
  },
  {
   "cell_type": "code",
   "execution_count": 21,
   "id": "15dd88d5",
   "metadata": {},
   "outputs": [
    {
     "data": {
      "text/plain": [
       "6"
      ]
     },
     "execution_count": 21,
     "metadata": {},
     "output_type": "execute_result"
    }
   ],
   "source": [
    "m.mul(3,2)"
   ]
  },
  {
   "cell_type": "code",
   "execution_count": 22,
   "id": "bd3cdc36",
   "metadata": {},
   "outputs": [
    {
     "data": {
      "text/plain": [
       "4.0"
      ]
     },
     "execution_count": 22,
     "metadata": {},
     "output_type": "execute_result"
    }
   ],
   "source": [
    "m.div(12,3)"
   ]
  },
  {
   "cell_type": "code",
   "execution_count": 23,
   "id": "b86a2588",
   "metadata": {},
   "outputs": [],
   "source": [
    "#Hierarchical Inheritance\n",
    "\n",
    "class person:\n",
    "    def person_details(self,name,age):\n",
    "        self.name=name\n",
    "        self.age=age\n",
    "        \n",
    "class employee(person):\n",
    "    def employee_detail(self,department,employee_no):\n",
    "        self.department=department\n",
    "        self.employee_no=employee_no\n",
    "        return self.employee_no,self.department,self.name,self.age\n",
    "       \n",
    "class hobbies(person):\n",
    "    def hobbies_detail(self,hobbie1,hobbie2):\n",
    "        self.hobbie1=hobbie1\n",
    "        self.hobbie2=hobbie2\n",
    "        return self.name,self.age,self.hobbie1,self.hobbie2"
   ]
  },
  {
   "cell_type": "code",
   "execution_count": 24,
   "id": "68e9818f",
   "metadata": {},
   "outputs": [],
   "source": [
    "e=employee()"
   ]
  },
  {
   "cell_type": "code",
   "execution_count": 25,
   "id": "1c338501",
   "metadata": {},
   "outputs": [],
   "source": [
    "e.person_details('Pratik',19)"
   ]
  },
  {
   "cell_type": "code",
   "execution_count": 26,
   "id": "fb22c0bb",
   "metadata": {},
   "outputs": [
    {
     "data": {
      "text/plain": [
       "(1234567, 'Marketing', 'Pratik', 19)"
      ]
     },
     "execution_count": 26,
     "metadata": {},
     "output_type": "execute_result"
    }
   ],
   "source": [
    "e.employee_detail('Marketing',1234567)"
   ]
  },
  {
   "cell_type": "code",
   "execution_count": 27,
   "id": "fbfce54e",
   "metadata": {},
   "outputs": [],
   "source": [
    "h=hobbies()"
   ]
  },
  {
   "cell_type": "code",
   "execution_count": 28,
   "id": "065fa1db",
   "metadata": {},
   "outputs": [],
   "source": [
    "h.person_details(\"Pratik\",19)"
   ]
  },
  {
   "cell_type": "code",
   "execution_count": 29,
   "id": "cad807c5",
   "metadata": {},
   "outputs": [
    {
     "data": {
      "text/plain": [
       "('Pratik', 19, 'Cricket', 'Football')"
      ]
     },
     "execution_count": 29,
     "metadata": {},
     "output_type": "execute_result"
    }
   ],
   "source": [
    "h.hobbies_detail(\"Cricket\",\"Football\")"
   ]
  },
  {
   "cell_type": "code",
   "execution_count": 30,
   "id": "92db5a3a",
   "metadata": {},
   "outputs": [],
   "source": [
    "#Hybrid Inheritance\n",
    "\n",
    "class School:\n",
    "\tdef func1(self):\n",
    "\t\tprint(\"This function is in school.\")\n",
    "\n",
    "\n",
    "class Student1(School):\n",
    "\tdef func2(self):\n",
    "\t\tprint(\"This function is in student 1. \")\n",
    "\n",
    "\n",
    "class Student2(School):\n",
    "\tdef func3(self):\n",
    "\t\tprint(\"This function is in student 2.\")\n",
    "\n",
    "\n",
    "class Student3(Student1, School):\n",
    "\tdef func4(self):\n",
    "\t\tprint(\"This function is in student 3.\")\n"
   ]
  },
  {
   "cell_type": "code",
   "execution_count": 31,
   "id": "989df842",
   "metadata": {},
   "outputs": [
    {
     "name": "stdout",
     "output_type": "stream",
     "text": [
      "This function is in school.\n",
      "This function is in student 1. \n"
     ]
    }
   ],
   "source": [
    "object = Student3()\n",
    "object.func1()\n",
    "object.func2()"
   ]
  },
  {
   "cell_type": "code",
   "execution_count": 52,
   "id": "aecf6441",
   "metadata": {},
   "outputs": [],
   "source": []
  },
  {
   "cell_type": "code",
   "execution_count": 53,
   "id": "cd809c30",
   "metadata": {},
   "outputs": [],
   "source": []
  },
  {
   "cell_type": "code",
   "execution_count": null,
   "id": "cdada340",
   "metadata": {},
   "outputs": [],
   "source": []
  },
  {
   "cell_type": "code",
   "execution_count": null,
   "id": "cad7fab8",
   "metadata": {},
   "outputs": [],
   "source": []
  },
  {
   "cell_type": "code",
   "execution_count": null,
   "id": "c68b60ba",
   "metadata": {},
   "outputs": [],
   "source": []
  }
 ],
 "metadata": {
  "kernelspec": {
   "display_name": "Python 3 (ipykernel)",
   "language": "python",
   "name": "python3"
  },
  "language_info": {
   "codemirror_mode": {
    "name": "ipython",
    "version": 3
   },
   "file_extension": ".py",
   "mimetype": "text/x-python",
   "name": "python",
   "nbconvert_exporter": "python",
   "pygments_lexer": "ipython3",
   "version": "3.9.13"
  }
 },
 "nbformat": 4,
 "nbformat_minor": 5
}
